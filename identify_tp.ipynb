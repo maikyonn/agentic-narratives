{
 "cells": [
  {
   "cell_type": "code",
   "execution_count": null,
   "metadata": {},
   "outputs": [],
   "source": [
    "\n",
    "\n",
    "prompt = \"\"\"\n",
    "The movie title is {title} and the synopsis is: {synopsis}.\n",
    "Please identify ONE (and only one) sentence in the summary as one of the five turning points.\n",
    "{Turning points taxonomy explanations}\n",
    "\t•\tYou should have all and exactly five turning points in this order.\n",
    "\t•\tAdditionally, the sentences you pull need to be in this order; you should not choose a sentence for Climax which precedes the sentence you chose for Change of Plan, for example, because Climax comes after Change of Plan.\n",
    "\t•\tThe format of the output should be a JSON object with the turning points as keys and the sentence numbers as values.\n",
    "\t•\tExplain why each is an appropriate selection.\n",
    "\n",
    "{Demonstrations}\n",
    "Input Story Instance: {S}\n",
    "Output: {Turning Points}\n",
    "\"\"\"\n",
    "\n"
   ]
  }
 ],
 "metadata": {
  "kernelspec": {
   "display_name": "ml-312",
   "language": "python",
   "name": "python3"
  },
  "language_info": {
   "name": "python",
   "version": "3.12.8"
  }
 },
 "nbformat": 4,
 "nbformat_minor": 2
}
