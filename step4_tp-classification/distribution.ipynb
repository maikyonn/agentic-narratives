{
 "cells": [
  {
   "cell_type": "code",
   "execution_count": null,
   "metadata": {},
   "outputs": [],
   "source": [
    "# Calculate percentage occurrence of each string\n",
    "unique_values, counts = np.unique(y_ds, return_counts=True)\n",
    "percentages = (counts / len(y_ds)) * 100\n",
    "\n",
    "# Print percentages for each value\n",
    "for value, percentage in zip(unique_values, percentages):\n",
    "    print(f\"{value}: {percentage:.2f}%\")"
   ]
  }
 ],
 "metadata": {
  "language_info": {
   "name": "python"
  }
 },
 "nbformat": 4,
 "nbformat_minor": 2
}
