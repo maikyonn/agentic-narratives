{
 "cells": [
  {
   "cell_type": "code",
   "execution_count": 21,
   "metadata": {},
   "outputs": [],
   "source": [
    "from langchain_openai import ChatOpenAI\n",
    "from langchain_openai import ChatOpenAI\n",
    "from langchain.prompts import PromptTemplate\n",
    "from langchain.output_parsers import CommaSeparatedListOutputParser\n",
    "\n",
    "\n",
    "llm = ChatOpenAI(\n",
    "    api_key=\"ollama\",\n",
    "    model=\"llama3.3\",\n",
    "    base_url=\"http://localhost:11434/v1\",\n",
    ")"
   ]
  },
  {
   "cell_type": "code",
   "execution_count": 22,
   "metadata": {},
   "outputs": [
    {
     "name": "stdout",
     "output_type": "stream",
     "text": [
      "\n",
      "Complete Story:\n",
      "\n",
      "[Segment 1]\n",
      "As I stood alone in the desolate, rain-soaked alley, the faint glow of the streetlights casting an eerie shadow on the walls, I couldn't shake the crushing feeling that my life had been reduced to nothing more than a meaningless, hopeless existence. The weight of my own despair seemed to be suffocating me, squeezing the last remnants of air from my lungs as the darkness closed in around me like a shroud.\n",
      "\n",
      "[Segment 2]\n",
      "As I stood there, the rain drumming against the pavement like a mournful dirge, I felt the familiar ache of loneliness settle into my bones, a hollow sense of isolation that seemed to seep into every pore of my being. The shadows on the walls appeared to twist and writhe, like living manifestations of my own despair, as the darkness deepened and the silence grew thicker, more oppressive.\n",
      "\n",
      "[Segment 3]\n",
      "As I turned to walk away, the sound of my footsteps echoed through the empty streets, a monotone beat that seemed to match the steady rhythm of the rain. The streetlights cast a pale, eerie glow over the deserted sidewalks, illuminating the wet pavement and the rows of closed storefronts with a detached, impersonal light.\n",
      "\n",
      "[Segment 4]\n",
      "But as I turned a corner, the soft glow of a small café caught my eye, its warm lights and inviting aromas beckoning me to escape the chill of the rain and find comfort in its cozy atmosphere. Inside, the sounds of gentle chatter and clinking cups created a soothing melody that wrapped around me like a hug, instantly lifting my spirits and making me feel like I'd stumbled into a little slice of heaven on a dreary night.\n",
      "\n",
      "[Segment 5]\n",
      "As I settled into a plush armchair by the window, cradling a steaming cup of hot chocolate in my hands, I felt a deep sense of joy and contentment wash over me, as if all the worries and cares of the world had been left outside with the rain. In this peaceful haven, surrounded by the warm smiles of strangers who had become instant friends, I knew that I had finally found my happy place, where love, comfort, and belonging filled every corner of my heart.\n",
      "\n"
     ]
    }
   ],
   "source": [
    "# Create a prompt template for narrative generation\n",
    "narrative_template = \"\"\"Write a story segment that captures a {sentiment} emotional tone. \n",
    "The segment should be 1-2 sentences long and be part {segment_number} of a 5-part story.\n",
    "Current context: {context}\n",
    "\n",
    "Story segment:\"\"\"\n",
    "\n",
    "prompt = PromptTemplate(\n",
    "    input_variables=[\"sentiment\", \"segment_number\", \"context\"],\n",
    "    template=narrative_template\n",
    ")\n",
    "\n",
    "# Define sentiment progression\n",
    "sentiments = [\n",
    "    \"very negative\",\n",
    "    \"slightly negative\",\n",
    "    \"neutral\",\n",
    "    \"mostly positive\",\n",
    "    \"very positive\"\n",
    "]\n",
    "\n",
    "# Generate the story segments\n",
    "story = []\n",
    "context = \"Start of story\"\n",
    "\n",
    "for i, sentiment in enumerate(sentiments, 1):\n",
    "    response = llm.invoke(\n",
    "        prompt.format(\n",
    "            sentiment=sentiment,\n",
    "            segment_number=i,\n",
    "            context=context\n",
    "        )\n",
    "    )\n",
    "    segment = response.content\n",
    "    story.append(f\"[Segment {i}]\\n{segment}\\n\")\n",
    "    context = segment  # Use previous segment as context for next one\n",
    "\n",
    "# Print the complete story\n",
    "print(\"\\nComplete Story:\\n\")\n",
    "print(\"\\n\".join(story))"
   ]
  },
  {
   "cell_type": "code",
   "execution_count": 15,
   "metadata": {},
   "outputs": [
    {
     "data": {
      "text/html": [
       "\n",
       "    <div style=\"max-width: 800px; margin: 20px auto; font-family: Georgia, serif;\">\n",
       "        <h2 style=\"text-align: center; color: #e2e8f0;\">A Five-Part Journey</h2>\n",
       "        \n",
       "        <div style=\"margin: 20px 0; padding: 20px; background-color: #1a202c; border-radius: 5px; \n",
       "                    border: 1px solid #2d3748;\">\n",
       "            <h3 style=\"color: #90cdf4; margin-bottom: 10px;\">Segment 1</h3>\n",
       "            <p style=\"line-height: 1.6; color: #e2e8f0;\">[Segment 1]\n",
       "As I stood alone in the desolate, rain-soaked alley, the faint smell of smoke and decay hung heavy in the air, a constant reminder of the shattered remains of my life, which had been reduced to nothing more than a smoldering ruin. The darkness seemed to closing in around me, suffocating me with an unrelenting sense of despair that threatened to consume what little was left of my fractured soul.\n",
       "</p>\n",
       "        </div>\n",
       "        \n",
       "\n",
       "        <div style=\"margin: 20px 0; padding: 20px; background-color: #1a202c; border-radius: 5px; \n",
       "                    border: 1px solid #2d3748;\">\n",
       "            <h3 style=\"color: #90cdf4; margin-bottom: 10px;\">Segment 2</h3>\n",
       "            <p style=\"line-height: 1.6; color: #e2e8f0;\">[Segment 2]\n",
       "As I wrapped my arms tightly around myself, the chill of the rain seeping into my bones seemed to mirror the icy numbness that had taken hold of my heart, leaving me feeling hollow and disconnected from the world around me. The sound of raindrops hitting the wet pavement was a mournful melody that echoed through my mind, a haunting reminder of the emptiness and loneliness that had become my reality.\n",
       "</p>\n",
       "        </div>\n",
       "        \n",
       "\n",
       "        <div style=\"margin: 20px 0; padding: 20px; background-color: #1a202c; border-radius: 5px; \n",
       "                    border: 1px solid #2d3748;\">\n",
       "            <h3 style=\"color: #90cdf4; margin-bottom: 10px;\">Segment 3</h3>\n",
       "            <p style=\"line-height: 1.6; color: #e2e8f0;\">[Segment 3]\n",
       "As I stood there, the rain continued to fall around me, casting a grey mist over the city streets, and I mechanically began to walk, my feet carrying me forward without any particular destination in mind. The buildings and people passed by in a blur, their features indistinct and unremarkable, much like the thoughts that drifted through my mind, neither particularly troubling nor comforting.\n",
       "</p>\n",
       "        </div>\n",
       "        \n",
       "\n",
       "        <div style=\"margin: 20px 0; padding: 20px; background-color: #1a202c; border-radius: 5px; \n",
       "                    border: 1px solid #2d3748;\">\n",
       "            <h3 style=\"color: #90cdf4; margin-bottom: 10px;\">Segment 4</h3>\n",
       "            <p style=\"line-height: 1.6; color: #e2e8f0;\">[Segment 4]\n",
       "But as I turned a corner, the sound of laughter and music drifted out of a nearby café, and I felt a spark of curiosity ignite within me, drawing me towards the warm and inviting glow that spilled out onto the wet pavement. As I pushed open the door and stepped inside, the melodies and conversations enveloped me, momentarily lifting the grey veil that had shrouded my thoughts and replacing it with a sense of gentle wonder and belonging.\n",
       "</p>\n",
       "        </div>\n",
       "        \n",
       "\n",
       "        <div style=\"margin: 20px 0; padding: 20px; background-color: #1a202c; border-radius: 5px; \n",
       "                    border: 1px solid #2d3748;\">\n",
       "            <h3 style=\"color: #90cdf4; margin-bottom: 10px;\">Segment 5</h3>\n",
       "            <p style=\"line-height: 1.6; color: #e2e8f0;\">[Segment 5]\n",
       "As I settled into a cozy corner table, surrounded by the joyful hum of strangers-turned-friends and the sweet scent of freshly baked pastries, I felt my heart overflow with a deep sense of connection and happiness, as if I had finally found a missing piece of myself in this vibrant and welcoming community. And in this moment, with the music swirling around me and the warmth of the café embracing me like a hug, I knew that everything was going to be alright, and that life was full of beauty and wonder waiting to be discovered.\n",
       "</p>\n",
       "        </div>\n",
       "        \n",
       "    </div>\n",
       "    "
      ],
      "text/plain": [
       "<IPython.core.display.HTML object>"
      ]
     },
     "metadata": {},
     "output_type": "display_data"
    }
   ],
   "source": [
    "# Display the story in a more readable dark mode format\n",
    "from IPython.display import HTML, display\n",
    "\n",
    "def format_story(story_segments):\n",
    "    html_content = \"\"\"\n",
    "    <div style=\"max-width: 800px; margin: 20px auto; font-family: Georgia, serif;\">\n",
    "        <h2 style=\"text-align: center; color: #e2e8f0;\">A Five-Part Journey</h2>\n",
    "        {}\n",
    "    </div>\n",
    "    \"\"\"\n",
    "    \n",
    "    segments_html = []\n",
    "    for i, segment in enumerate(story_segments, 1):\n",
    "        segment_html = f\"\"\"\n",
    "        <div style=\"margin: 20px 0; padding: 20px; background-color: #1a202c; border-radius: 5px; \n",
    "                    border: 1px solid #2d3748;\">\n",
    "            <h3 style=\"color: #90cdf4; margin-bottom: 10px;\">Segment {i}</h3>\n",
    "            <p style=\"line-height: 1.6; color: #e2e8f0;\">{segment}</p>\n",
    "        </div>\n",
    "        \"\"\"\n",
    "        segments_html.append(segment_html)\n",
    "    \n",
    "    display(HTML(html_content.format('\\n'.join(segments_html))))\n",
    "\n",
    "# Display the story\n",
    "format_story(story)"
   ]
  },
  {
   "cell_type": "code",
   "execution_count": 16,
   "metadata": {},
   "outputs": [],
   "source": [
    "# Load and display the narratives data\n",
    "import json\n",
    "\n",
    "with open('data_release/narratives.json', 'r') as f:\n",
    "    narratives = json.load(f)\n"
   ]
  },
  {
   "cell_type": "code",
   "execution_count": 19,
   "metadata": {},
   "outputs": [
    {
     "data": {
      "text/plain": [
       "819"
      ]
     },
     "execution_count": 19,
     "metadata": {},
     "output_type": "execute_result"
    }
   ],
   "source": [
    "len([n for n in narratives.values() if n['source'] == 'Human'])"
   ]
  },
  {
   "cell_type": "code",
   "execution_count": null,
   "metadata": {},
   "outputs": [],
   "source": []
  }
 ],
 "metadata": {
  "kernelspec": {
   "display_name": "ml-312",
   "language": "python",
   "name": "python3"
  },
  "language_info": {
   "codemirror_mode": {
    "name": "ipython",
    "version": 3
   },
   "file_extension": ".py",
   "mimetype": "text/x-python",
   "name": "python",
   "nbconvert_exporter": "python",
   "pygments_lexer": "ipython3",
   "version": "3.12.8"
  }
 },
 "nbformat": 4,
 "nbformat_minor": 2
}
